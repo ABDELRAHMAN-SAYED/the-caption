{
 "cells": [
  {
   "cell_type": "code",
   "execution_count": 33,
   "id": "c8486977",
   "metadata": {},
   "outputs": [
    {
     "ename": "IndentationError",
     "evalue": "unindent does not match any outer indentation level (<tokenize>, line 53)",
     "output_type": "error",
     "traceback": [
      "\u001b[1;36m  File \u001b[1;32m\"<tokenize>\"\u001b[1;36m, line \u001b[1;32m53\u001b[0m\n\u001b[1;33m    pdf = request.files['pdf']\u001b[0m\n\u001b[1;37m    ^\u001b[0m\n\u001b[1;31mIndentationError\u001b[0m\u001b[1;31m:\u001b[0m unindent does not match any outer indentation level\n"
     ]
    }
   ],
   "source": [
    "from flask import Flask, render_template, url_for, request, redirect\n",
    "from generatcap import *\n",
    "import warnings\n",
    "warnings.filterwarnings(\"ignore\")\n",
    "\n",
    "\n",
    "\n",
    "app = Flask(__name__,template_folder='template')\n",
    "\n",
    "\n",
    "@app.route('/')\n",
    "def hello():\n",
    "    return render_template('index.html')\n",
    "\n",
    "\n",
    "@app.route('/', methods = ['POST'])\n",
    "def upload_file():\n",
    "\tif request.method == 'POST':\n",
    "\t\timg = request.files['image']\n",
    "\n",
    "\t\t# print(img)\n",
    "\t\t# print(img.filename)\n",
    "\n",
    "\t\timg.save(\"static/\"+img.filename)\n",
    "\n",
    "\t\n",
    "\t\tcaption = caption_this_image(\"static/\"+img.filename)\n",
    "\t\tresult_dic = {\n",
    "\t\t\t\n",
    "\t\t\t'description' : caption\n",
    "\t\t}\n",
    "        \n",
    "\n",
    "\treturn render_template('index.html', results = result_dic)\n",
    "\n",
    "allowed_extensions = ['jpg', 'png', 'pdf']\n",
    "\n",
    "def check_file_extension(filename):\n",
    "    return filename.split('.')[-1] in allowed_extensions\n",
    "\n",
    "@app.route('/', methods = ['POST'])\n",
    "def upload_pdf():\n",
    "    \n",
    "    if request.method == 'POST':\n",
    "        \n",
    "        pdf = request.files['pdf']\n",
    "        pdf.save(\"static/\"+pdf.filename)\n",
    "        caption = extract(\"static/\"+pdf.filename)\n",
    "        result_dic = {\n",
    "            \n",
    "            'description' : caption}\n",
    "    return render_template('index.html', results = result_dic)\n",
    "\n",
    "\n",
    "if __name__ == '__main__':\n",
    "\tapp.run(debug = True,use_debugger=False, use_reloader=False)"
   ]
  },
  {
   "cell_type": "code",
   "execution_count": null,
   "id": "b7885b2f",
   "metadata": {},
   "outputs": [],
   "source": []
  }
 ],
 "metadata": {
  "kernelspec": {
   "display_name": "Python 3 (ipykernel)",
   "language": "python",
   "name": "python3"
  },
  "language_info": {
   "codemirror_mode": {
    "name": "ipython",
    "version": 3
   },
   "file_extension": ".py",
   "mimetype": "text/x-python",
   "name": "python",
   "nbconvert_exporter": "python",
   "pygments_lexer": "ipython3",
   "version": "3.8.8"
  }
 },
 "nbformat": 4,
 "nbformat_minor": 5
}
