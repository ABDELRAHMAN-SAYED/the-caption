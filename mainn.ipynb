{
 "cells": [
  {
   "cell_type": "code",
   "execution_count": 3,
   "id": "c8486977",
   "metadata": {},
   "outputs": [
    {
     "name": "stdout",
     "output_type": "stream",
     "text": [
      " * Serving Flask app \"__main__\" (lazy loading)\n",
      " * Environment: production\n",
      "   WARNING: This is a development server. Do not use it in a production deployment.\n",
      "   Use a production WSGI server instead.\n",
      " * Debug mode: on\n"
     ]
    },
    {
     "name": "stderr",
     "output_type": "stream",
     "text": [
      " * Running on http://127.0.0.1:5000/ (Press CTRL+C to quit)\n",
      "127.0.0.1 - - [02/Jun/2022 19:38:24] \"\u001b[37mGET / HTTP/1.1\u001b[0m\" 200 -\n",
      "127.0.0.1 - - [02/Jun/2022 19:38:52] \"\u001b[37mPOST / HTTP/1.1\u001b[0m\" 200 -\n",
      "127.0.0.1 - - [02/Jun/2022 19:38:52] \"\u001b[37mGET /static/podo.jpg HTTP/1.1\u001b[0m\" 200 -\n"
     ]
    }
   ],
   "source": [
    "from flask import Flask, render_template, url_for, request, redirect\n",
    "from generatcap import *\n",
    "import warnings\n",
    "warnings.filterwarnings(\"ignore\")\n",
    "\n",
    "\n",
    "\n",
    "app = Flask(__name__,template_folder='template')\n",
    "\n",
    "\n",
    "@app.route('/')\n",
    "def hello():\n",
    "    return render_template('index.html')\n",
    "\n",
    "\n",
    "@app.route('/', methods = ['POST'])\n",
    "def upload_file():\n",
    "\tif request.method == 'POST':\n",
    "\t\timg = request.files['image']\n",
    "\n",
    "\t\t# print(img)\n",
    "\t\t# print(img.filename)\n",
    "\n",
    "\t\timg.save(\"static/\"+img.filename)\n",
    "\n",
    "\t\n",
    "\t\tcaption = caption_this_image(\"static/\"+img.filename)\n",
    "\n",
    "\n",
    "\n",
    "\t\t\n",
    "\t\tresult_dic = {\n",
    "\t\t\t'image' : \"static/\" + img.filename,\n",
    "\t\t\t'description' : caption\n",
    "\t\t}\n",
    "\treturn render_template('index.html', results = result_dic)\n",
    "\n",
    "if __name__ == '__main__':\n",
    "\tapp.run(debug = True,use_debugger=False, use_reloader=False)"
   ]
  },
  {
   "cell_type": "code",
   "execution_count": null,
   "id": "b7885b2f",
   "metadata": {},
   "outputs": [],
   "source": []
  }
 ],
 "metadata": {
  "kernelspec": {
   "display_name": "Python 3",
   "language": "python",
   "name": "python3"
  },
  "language_info": {
   "codemirror_mode": {
    "name": "ipython",
    "version": 3
   },
   "file_extension": ".py",
   "mimetype": "text/x-python",
   "name": "python",
   "nbconvert_exporter": "python",
   "pygments_lexer": "ipython3",
   "version": "3.8.8"
  }
 },
 "nbformat": 4,
 "nbformat_minor": 5
}
